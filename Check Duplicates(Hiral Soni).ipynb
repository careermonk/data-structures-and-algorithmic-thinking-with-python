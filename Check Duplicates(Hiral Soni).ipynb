{
 "cells": [
  {
   "cell_type": "code",
   "execution_count": 85,
   "metadata": {},
   "outputs": [],
   "source": [
    "## Method 1:(Brute Force)\n",
    "\n",
    "def checkDuplicates1(lyst):\n",
    "\n",
    "\n",
    "    for i in range(len(lyst)):\n",
    "        for j in range(i+1,len(lyst)):\n",
    "            if lyst[i] == lyst[j]:\n",
    "                return True\n",
    "    return False\n",
    "            \n",
    "\n"
   ]
  },
  {
   "cell_type": "code",
   "execution_count": 122,
   "metadata": {},
   "outputs": [
    {
     "data": {
      "text/plain": [
       "True"
      ]
     },
     "execution_count": 122,
     "metadata": {},
     "output_type": "execute_result"
    }
   ],
   "source": [
    "#list1 = [3,2,4,5,6,7]\n",
    "list1 = [3,2,1,2,0,5,5,5]\n",
    "checkDuplicates1(list1)"
   ]
  },
  {
   "cell_type": "code",
   "execution_count": 2,
   "metadata": {},
   "outputs": [],
   "source": [
    "## Method 2:(Sorting)\n",
    "\n",
    "def checkDuplicates2(lyst):\n",
    "\n",
    "    lyst.sort()\n",
    "    \n",
    "    for i in range(len(lyst)-1):\n",
    "        if lyst[i] == lyst[i-1]:\n",
    "                return True\n",
    "    return False\n",
    "    "
   ]
  },
  {
   "cell_type": "code",
   "execution_count": 121,
   "metadata": {},
   "outputs": [
    {
     "data": {
      "text/plain": [
       "True"
      ]
     },
     "execution_count": 121,
     "metadata": {},
     "output_type": "execute_result"
    }
   ],
   "source": [
    "#list1 = [3,2,4,5,6,7]\n",
    "list1 = [3,2,1,6,5,5,6,8,5]\n",
    "checkDuplicates2(list1)"
   ]
  },
  {
   "cell_type": "code",
   "execution_count": 68,
   "metadata": {},
   "outputs": [],
   "source": [
    "#Method 3:(Hashing)\n",
    "\n",
    "def checkDuplicates3(lyst):\n",
    "    dic = {}\n",
    "    for i in lyst:\n",
    "        if i in dic.keys():\n",
    "            return True\n",
    "        else:\n",
    "            dic[i]=1\n",
    "    return False\n",
    "\n"
   ]
  },
  {
   "cell_type": "code",
   "execution_count": 88,
   "metadata": {},
   "outputs": [
    {
     "data": {
      "text/plain": [
       "False"
      ]
     },
     "execution_count": 88,
     "metadata": {},
     "output_type": "execute_result"
    }
   ],
   "source": [
    "list1 = [3,2,4,5,6,7]\n",
    "#list1 = [5,6,6,3,2,1,0,5,5]\n",
    "checkDuplicates3(list1)"
   ]
  },
  {
   "cell_type": "code",
   "execution_count": 111,
   "metadata": {},
   "outputs": [],
   "source": [
    "#Method 4:(Negation)\n",
    "\n",
    "def checkDuplicates4(lyst):\n",
    "\n",
    "    for i in range(len(lyst)):\n",
    "        if lyst[abs(lyst[i])]<=0 :\n",
    "            return True\n",
    "        else:\n",
    "            lyst[abs(lyst[i])]*=-1\n",
    "    return False"
   ]
  },
  {
   "cell_type": "code",
   "execution_count": 119,
   "metadata": {
    "scrolled": true
   },
   "outputs": [
    {
     "data": {
      "text/plain": [
       "True"
      ]
     },
     "execution_count": 119,
     "metadata": {},
     "output_type": "execute_result"
    }
   ],
   "source": [
    "#list1 = [3,2,4,5,6,7]\n",
    "list1 = [5,6,6,3,2,1,0,5,5]\n",
    "checkDuplicates4(list1)"
   ]
  },
  {
   "cell_type": "code",
   "execution_count": null,
   "metadata": {},
   "outputs": [],
   "source": []
  }
 ],
 "metadata": {
  "kernelspec": {
   "display_name": "Python 3",
   "language": "python",
   "name": "python3"
  },
  "language_info": {
   "codemirror_mode": {
    "name": "ipython",
    "version": 3
   },
   "file_extension": ".py",
   "mimetype": "text/x-python",
   "name": "python",
   "nbconvert_exporter": "python",
   "pygments_lexer": "ipython3",
   "version": "3.7.4"
  }
 },
 "nbformat": 4,
 "nbformat_minor": 2
}
