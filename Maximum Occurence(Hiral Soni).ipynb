{
 "cells": [
  {
   "cell_type": "code",
   "execution_count": 23,
   "metadata": {},
   "outputs": [],
   "source": [
    "## Method 1:\n",
    "\n",
    "def getMaxElements1(lyst):\n",
    "    \n",
    "    max_count = 0\n",
    "    max_lyst = []\n",
    "    for i in range(len(lyst)-1):\n",
    "        count = 1\n",
    "        for j in range(i+1,len(lyst)):\n",
    "            if lyst[i] == lyst[j]:\n",
    "                count+=1\n",
    "        \n",
    "        \n",
    "        if max_count < count:        \n",
    "            max_count = count\n",
    "            max_lyst.clear()\n",
    "            max_lyst.append(lyst[i])\n",
    "            \n",
    "        elif max_count == count:            \n",
    "            max_count = count\n",
    "            max_lyst.append(lyst[i])\n",
    "\n",
    "    return print('Most Frequent Element/s ::',max_lyst)\n",
    "        "
   ]
  },
  {
   "cell_type": "code",
   "execution_count": 24,
   "metadata": {},
   "outputs": [
    {
     "name": "stdout",
     "output_type": "stream",
     "text": [
      "Most Frequent Element/s :: [5, 6]\n"
     ]
    }
   ],
   "source": [
    "#list1 = [11,3,4,2,3,4,3,3]\n",
    "list1 = [2,3,4,5,5,5,6,6,6]\n",
    "#list1 = [1,2,3,4]\n",
    "\n",
    "getMaxElements1(list1)"
   ]
  },
  {
   "cell_type": "code",
   "execution_count": 52,
   "metadata": {},
   "outputs": [],
   "source": [
    "## Method 2:\n",
    "\n",
    "def getElements2(lyst):\n",
    "    lyst.sort()\n",
    "    count=0\n",
    "    max_count=0\n",
    "    max_lyst=[]\n",
    "\n",
    "    for i in range(1,len(lyst)):\n",
    "        if lyst[i]==lyst[i-1]:\n",
    "            count+=1\n",
    "        else:\n",
    "            if max_count<=count and count!=0:\n",
    "                max_count=count\n",
    "                max_lyst.append(lyst[i-1])\n",
    "            count=0\n",
    "    if max_count==count and count!=0:\n",
    "            max_count=count\n",
    "            max_lyst.append(lyst[i])\n",
    "    elif max_count<count:\n",
    "        max_count=count\n",
    "        max_lyst.clear()\n",
    "        max_lyst.append(lyst[i])\n",
    "        \n",
    "    return print('Most Frequent Element/s ::',max_lyst)  "
   ]
  },
  {
   "cell_type": "code",
   "execution_count": 53,
   "metadata": {},
   "outputs": [
    {
     "data": {
      "text/plain": [
       "[5, 6]"
      ]
     },
     "execution_count": 53,
     "metadata": {},
     "output_type": "execute_result"
    }
   ],
   "source": [
    "#list1 = [11,3,4,2,3,4,3,3]\n",
    "list1 = [2,3,4,5,5,5,6,6,6]\n",
    "#list1 = [1,2,3,4]\n",
    "\n",
    "get_max_duplicates_2(list1)"
   ]
  },
  {
   "cell_type": "code",
   "execution_count": 270,
   "metadata": {},
   "outputs": [],
   "source": [
    "def getMaxElement3(lyst):\n",
    "\n",
    "    count = 1\n",
    "    max_lyst = []\n",
    "    dic = {}\n",
    "    for i in lyst:\n",
    "        if i in dic.keys():\n",
    "            dic[i] +=1\n",
    "        else:\n",
    "            dic[i]=1\n",
    "    \n",
    "    max_value = max(dic.values())\n",
    "\n",
    "    for key,value in dic.items():\n",
    "        if value == max_value:\n",
    "            max_lyst.append(key)\n",
    "        \n",
    "    return print('Most Frequent Elements ::',max_lyst)"
   ]
  },
  {
   "cell_type": "code",
   "execution_count": 290,
   "metadata": {},
   "outputs": [
    {
     "name": "stdout",
     "output_type": "stream",
     "text": [
      "Most Frequent Elements :: [5, 6]\n"
     ]
    }
   ],
   "source": [
    "#list1 = [11,3,4,2,3,4,3,3]\n",
    "list1 = [2,3,4,5,5,5,6,6,6]\n",
    "#list1 = [1,2,3,4]\n",
    "\n",
    "getMaxElement3(list1)"
   ]
  },
  {
   "cell_type": "code",
   "execution_count": 301,
   "metadata": {},
   "outputs": [],
   "source": [
    "# Negation of Elements\n",
    "\n",
    "def getMaxElement4(lyst):\n",
    "    s=len(lyst)\n",
    "    max_lyst=[]\n",
    "    for i in range(len(lyst)):\n",
    "        lyst[lyst[i]%s]+=s\n",
    "    for i in lyst:\n",
    "        lyst = i-(i%s)\n",
    "    for i in range(0,len(lyst)):\n",
    "        if lyst[i]==max(lyst):\n",
    "            max_lyst.append(i)\n",
    "    if len(max_lyst)==c:\n",
    "        max_lyst.clear()\n",
    "    return max_lyst"
   ]
  },
  {
   "cell_type": "code",
   "execution_count": 302,
   "metadata": {},
   "outputs": [
    {
     "data": {
      "text/plain": [
       "[3]"
      ]
     },
     "execution_count": 302,
     "metadata": {},
     "output_type": "execute_result"
    }
   ],
   "source": [
    "list1 = [11,3,4,2,3,4,3,3]\n",
    "#list1 = [2,3,4,5,5,5,6,6,6]\n",
    "#list1 = [1,2,3,4]\n",
    "\n",
    "get_max_duplicates_4(list1)"
   ]
  },
  {
   "cell_type": "code",
   "execution_count": null,
   "metadata": {},
   "outputs": [],
   "source": []
  }
 ],
 "metadata": {
  "kernelspec": {
   "display_name": "Python 3",
   "language": "python",
   "name": "python3"
  },
  "language_info": {
   "codemirror_mode": {
    "name": "ipython",
    "version": 3
   },
   "file_extension": ".py",
   "mimetype": "text/x-python",
   "name": "python",
   "nbconvert_exporter": "python",
   "pygments_lexer": "ipython3",
   "version": "3.7.4"
  }
 },
 "nbformat": 4,
 "nbformat_minor": 2
}
