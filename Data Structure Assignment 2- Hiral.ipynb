{
 "cells": [
  {
   "cell_type": "markdown",
   "metadata": {},
   "source": [
    "### Counting Sort"
   ]
  },
  {
   "cell_type": "code",
   "execution_count": 103,
   "metadata": {},
   "outputs": [],
   "source": [
    "def countingSort(list1):\n",
    "    n = max(list1)+1\n",
    "    count_list = [0]*n\n",
    "    sorted_list = [0]*len(list1)\n",
    "    s = 0\n",
    "    \n",
    "    \n",
    "    for i in list1:\n",
    "        count_list[i]+=1\n",
    "    \n",
    "\n",
    "    #print(count_list)\n",
    "    \n",
    "    for i in range(n):\n",
    "        #count_list[i] += count_list[i-1]\n",
    "        temp = count_list[i]\n",
    "        count_list[i] = s\n",
    "        s += temp\n",
    "    #print(count_list)\n",
    "    \n",
    "    for i in list1:\n",
    "        sorted_list[count_list[i]] = i\n",
    "        count_list[i] += 1\n",
    "    return sorted_list"
   ]
  },
  {
   "cell_type": "code",
   "execution_count": 110,
   "metadata": {},
   "outputs": [
    {
     "name": "stdout",
     "output_type": "stream",
     "text": [
      "Sorted List :: [1, 2, 2, 3, 4, 10, 10, 10, 20, 30]\n"
     ]
    }
   ],
   "source": [
    "list1 = [4,2,1,10,2,10,3,10,30,20]\n",
    "print('Sorted List ::',countingSort(list1))\n"
   ]
  },
  {
   "cell_type": "markdown",
   "metadata": {},
   "source": [
    "### Linear Chaining"
   ]
  },
  {
   "cell_type": "code",
   "execution_count": 83,
   "metadata": {},
   "outputs": [],
   "source": [
    "#Linked List\n",
    "\n",
    "class Node:\n",
    "    def __init__(self,data):\n",
    "        self.data = data\n",
    "        self.next = None\n",
    "        \n",
    "    \n",
    "class LinkedList:\n",
    "    def __init__(self):\n",
    "        self.head = None\n",
    "    \n",
    "    def addToList(self,data):\n",
    "        \n",
    "        if self.find(data):\n",
    "            #print(' in find ')\n",
    "            self.remove(data[0])\n",
    "        else:           \n",
    "            newNode = Node(data)\n",
    "        \n",
    "            if self.head == None: \n",
    "                self.head = newNode\n",
    "            \n",
    "            else: \n",
    "                current = self.head\n",
    "            \n",
    "                while current.next is not None:\n",
    "                    current = current.next\n",
    "                current.next = newNode\n",
    "            \n",
    "        \n",
    "    \n",
    "    def __str__(self):\n",
    "        if self.head == None:\n",
    "            return \"None\"\n",
    "        current = self.head\n",
    "        temp = str(current.data)\n",
    "        while current.next is not None:\n",
    "            current = current.next\n",
    "            temp = temp + \" -->\"+str(current.data)\n",
    "        return temp\n",
    "    \n",
    "    def find(self,data):\n",
    "        if self.head == None:\n",
    "            return None\n",
    "        curr = self.head\n",
    "        count = 0\n",
    "        while curr is not None:\n",
    "            if curr.data[0] == data[0]:\n",
    "                count = count+1\n",
    "                return count\n",
    "            curr = curr.next\n",
    "            count = count+1\n",
    "        else:\n",
    "            return None\n",
    "\n",
    "        \n",
    "    def remove(self,data):\n",
    "        if self.head == None:\n",
    "            return 'Empty List'\n",
    "        curr = self.head\n",
    "        \n",
    "        if self.head.data[0] == data:\n",
    "            curr = curr.next\n",
    "            self.head = curr\n",
    "            return\n",
    "        \n",
    "        \n",
    "        while curr is not None:\n",
    "            \n",
    "            if curr.data[0] == data:\n",
    "                prev.next = curr.next\n",
    "                curr.next = None\n",
    "            prev = curr  \n",
    "            curr = curr.next\n",
    "            \n",
    "          \n",
    "            \n",
    "\n",
    "            \n",
    "\n"
   ]
  },
  {
   "cell_type": "code",
   "execution_count": 108,
   "metadata": {},
   "outputs": [
    {
     "name": "stdout",
     "output_type": "stream",
     "text": [
      "Hash Table :\n",
      "None\n",
      "(1, 2) -->(15, 2)\n",
      "None\n",
      "None\n",
      "(25, 3) -->(11, 5)\n",
      "None\n",
      "(55, 13) -->(20, 16)\n",
      "None\n",
      "None\n",
      "None\n",
      "None\n"
     ]
    }
   ],
   "source": [
    "#Linear Chaining using Linked List\n",
    "\n",
    "\n",
    "\n",
    "HashTable=[LinkedList() for i in range(11)]\n",
    "def hashing(k):\n",
    "    return k%7\n",
    "\n",
    "def insert(k,v):\n",
    "    HashTable[hashing(k)].addToList((k,v))\n",
    "    \n",
    "def get_value(k):\n",
    "    HashTable[hashing(k)].find(k)\n",
    "    \n",
    "def delete(k):\n",
    "    HashTable[hashing(k)].remove(k)\n",
    "    \n",
    "insert(1,2)\n",
    "insert(15,2)\n",
    "insert(25,3)\n",
    "insert(55,13)\n",
    "insert(23,4)\n",
    "insert(20,2)\n",
    "insert(11,5)\n",
    "delete(23)\n",
    "insert(20,13)\n",
    "insert(20,16) #replace same key values\n",
    "\n",
    "print(\"Hash Table :\")\n",
    "for i in HashTable:\n",
    "    print(i)"
   ]
  },
  {
   "cell_type": "code",
   "execution_count": null,
   "metadata": {},
   "outputs": [],
   "source": []
  },
  {
   "cell_type": "code",
   "execution_count": null,
   "metadata": {},
   "outputs": [],
   "source": []
  }
 ],
 "metadata": {
  "kernelspec": {
   "display_name": "Python 3",
   "language": "python",
   "name": "python3"
  },
  "language_info": {
   "codemirror_mode": {
    "name": "ipython",
    "version": 3
   },
   "file_extension": ".py",
   "mimetype": "text/x-python",
   "name": "python",
   "nbconvert_exporter": "python",
   "pygments_lexer": "ipython3",
   "version": "3.7.4"
  }
 },
 "nbformat": 4,
 "nbformat_minor": 2
}
