{
 "cells": [
  {
   "cell_type": "code",
   "execution_count": 7,
   "metadata": {},
   "outputs": [
    {
     "name": "stdout",
     "output_type": "stream",
     "text": [
      "Atleast one duplicate value present\n",
      "Atleast one duplicate value present\n",
      "Atleast one duplicate value present\n",
      "Atleast one duplicate value present\n",
      "Atleast one duplicate value present\n",
      "Atleast one duplicate value present\n",
      "2\n"
     ]
    }
   ],
   "source": [
    "# disctionary/hashing for duplicates\n",
    "# given an array of n elements find the ele which is repeated for max number of times.\n",
    "\n",
    "arr = [1,2,2,2,2,3,4,5,6,7,8,8,3,5]\n",
    "\n",
    "def duphash(arr):\n",
    "    hashdict = {}\n",
    "    \n",
    "    for i in range(len(arr)):\n",
    "        if arr[i] in hashdict:\n",
    "            hashdict[arr[i]] += 1 \n",
    "            print(\"Atleast one duplicate value present\")\n",
    "        else:\n",
    "            hashdict[arr[i]] = 1\n",
    "    \n",
    "    dictmax = max(hashdict, key = hashdict.get)\n",
    "    \n",
    "    print(dictmax)\n",
    "    \n",
    "duphash(arr)\n"
   ]
  },
  {
   "cell_type": "code",
   "execution_count": 15,
   "metadata": {},
   "outputs": [
    {
     "name": "stdout",
     "output_type": "stream",
     "text": [
      "[(2, 4)]\n"
     ]
    }
   ],
   "source": [
    "#from collections import Counter\n",
    "import collections\n",
    "\n",
    "\n",
    "print(collections.Counter(arr).most_common(1))\n",
    "\n"
   ]
  }
 ],
 "metadata": {
  "kernelspec": {
   "display_name": "Python 3",
   "language": "python",
   "name": "python3"
  },
  "language_info": {
   "codemirror_mode": {
    "name": "ipython",
    "version": 3
   },
   "file_extension": ".py",
   "mimetype": "text/x-python",
   "name": "python",
   "nbconvert_exporter": "python",
   "pygments_lexer": "ipython3",
   "version": "3.7.4"
  }
 },
 "nbformat": 4,
 "nbformat_minor": 2
}
